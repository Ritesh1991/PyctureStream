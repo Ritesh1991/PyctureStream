{
 "cells": [
  {
   "cell_type": "code",
   "execution_count": null,
   "metadata": {
    "collapsed": true
   },
   "outputs": [],
   "source": [
    "from __future__ import print_function\n",
    "from pyspark import SparkContext\n",
    "from pyspark.streaming import StreamingContext\n",
    "from pyspark.streaming.kafka import KafkaUtils\n",
    "import base64\n",
    "import json\n",
    "from IPython.display import IFrame\n",
    "from IPython.core.display import display"
   ]
  },
  {
   "cell_type": "code",
   "execution_count": null,
   "metadata": {},
   "outputs": [],
   "source": [
    "display(IFrame('frame.html', '600px', '400px'))"
   ]
  },
  {
   "cell_type": "code",
   "execution_count": null,
   "metadata": {},
   "outputs": [],
   "source": [
    "def save_image(payload):\n",
    "    \"\"\"Save latest image as jpg file for debugging only.\"\"\"\n",
    "    events = payload.collect()\n",
    "    if len(events) > 0:\n",
    "        latest = events[-1]\n",
    "        decoded = base64.b64decode(latest['image'])  # Decode image from json\n",
    "        filename = latest['camera_id'] + '.jpg' \n",
    "        with open(filename, 'wb') as f:\n",
    "            f.write(decoded)"
   ]
  },
  {
   "cell_type": "code",
   "execution_count": null,
   "metadata": {},
   "outputs": [],
   "source": [
    "# Stream Settings\n",
    "zkQuorum = 'localhost:2181'\n",
    "topic = 'pycturestream'\n",
    "ssc = StreamingContext(sc, 3)  # Update every 3 seconds\n",
    "kvs = KafkaUtils.createStream(ssc, \n",
    "                              zkQuorum, \n",
    "                              \"spark-streaming-consumer\", \n",
    "                              {topic: 1})\n",
    "\n",
    "# Transform stream payload\n",
    "dstream = kvs.map(lambda x: json.loads(x[1]))  # transform json to object\n",
    "\n",
    "dstream.foreachRDD(lambda x: save_image(x))\n",
    "\n",
    "# Actually start Streaming Context\n",
    "ssc.start()  \n",
    "ssc.awaitTermination()"
   ]
  },
  {
   "cell_type": "code",
   "execution_count": null,
   "metadata": {},
   "outputs": [],
   "source": []
  }
 ],
 "metadata": {
  "kernelspec": {
   "display_name": "Python 2",
   "language": "python",
   "name": "python2"
  },
  "language_info": {
   "codemirror_mode": {
    "name": "ipython",
    "version": 2
   },
   "file_extension": ".py",
   "mimetype": "text/x-python",
   "name": "python",
   "nbconvert_exporter": "python",
   "pygments_lexer": "ipython2",
   "version": "2.7.14"
  }
 },
 "nbformat": 4,
 "nbformat_minor": 2
}
