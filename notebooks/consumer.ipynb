{
 "cells": [
  {
   "cell_type": "code",
   "execution_count": null,
   "metadata": {
    "collapsed": true
   },
   "outputs": [],
   "source": [
    "from __future__ import print_function\n",
    "from pyspark import SparkContext\n",
    "from pyspark.streaming import StreamingContext\n",
    "from pyspark.streaming.kafka import KafkaUtils\n",
    "import base64\n",
    "import json\n",
    "import time"
   ]
  },
  {
   "cell_type": "code",
   "execution_count": null,
   "metadata": {},
   "outputs": [],
   "source": [
    "def save_image(payload):\n",
    "    \"\"\"Save latest image as jpg file for debugging only.\"\"\"\n",
    "    decoded = base64.b64decode(payload['image'])  # Decode image from json\n",
    "    filename = payload['camera_id'] + '.jpg' \n",
    "        with open(filename, 'wb') as f:\n",
    "        f.write(decoded)\n",
    "    return payload['timestamp'], payload['camera_id']"
   ]
  },
  {
   "cell_type": "code",
   "execution_count": null,
   "metadata": {},
   "outputs": [],
   "source": [
    "# Listen to Kafka Stream\n",
    "\n",
    "# Stream Settings\n",
    "zkQuorum = 'localhost:2181'\n",
    "topic = 'pycturestream'\n",
    "ssc = StreamingContext(sc, 3)  # Update every 3 seconds\n",
    "kvs = KafkaUtils.createStream(ssc, \n",
    "                              zkQuorum, \n",
    "                              \"spark-streaming-consumer\", \n",
    "                              {topic: 1})\n",
    "\n",
    "# Transform stream payload\n",
    "dstream = kvs.map(lambda x: json.loads(x[1]))  # transform json to object\n",
    "images = dstream.map(lambda x: save_image(x))  # get image string & save\n",
    "\n",
    "images.pprint(5)\n",
    "\n",
    "# Actually start Streaming Context\n",
    "ssc.start()  \n",
    "ssc.awaitTermination()"
   ]
  },
  {
   "cell_type": "code",
   "execution_count": null,
   "metadata": {
    "collapsed": true
   },
   "outputs": [],
   "source": []
  }
 ],
 "metadata": {
  "kernelspec": {
   "display_name": "Python 3",
   "language": "python",
   "name": "python3"
  },
  "language_info": {
   "codemirror_mode": {
    "name": "ipython",
    "version": 3
   },
   "file_extension": ".py",
   "mimetype": "text/x-python",
   "name": "python",
   "nbconvert_exporter": "python",
   "pygments_lexer": "ipython3",
   "version": "3.6.4"
  }
 },
 "nbformat": 4,
 "nbformat_minor": 2
}
