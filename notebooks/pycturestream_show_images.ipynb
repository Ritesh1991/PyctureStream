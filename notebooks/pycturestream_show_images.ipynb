{
 "cells": [
  {
   "cell_type": "code",
   "execution_count": null,
   "metadata": {
    "collapsed": true
   },
   "outputs": [],
   "source": [
    "from __future__ import print_function\n",
    "from pyspark import SparkContext\n",
    "from pyspark.streaming import StreamingContext\n",
    "from pyspark.streaming.kafka import KafkaUtils\n",
    "import base64\n",
    "import json\n",
    "import time\n",
    "from IPython import display\n",
    "from IPython.lib import backgroundjobs as bg"
   ]
  },
  {
   "cell_type": "code",
   "execution_count": null,
   "metadata": {},
   "outputs": [],
   "source": [
    "def save_image(payload):\n",
    "    \"\"\"Save image as png file to display in Notebook later.\"\"\"\n",
    "    decoded = base64.b64decode(payload['image'])  # Decode image from json\n",
    "    with open('test.png', 'wb') as f:\n",
    "        f.write(decoded)\n",
    "    return payload['timestamp'], payload['camera_id']"
   ]
  },
  {
   "cell_type": "code",
   "execution_count": null,
   "metadata": {
    "collapsed": true
   },
   "outputs": [],
   "source": [
    "def update_image():\n",
    "    \"\"\"Update jupyter display with image.\"\"\"\n",
    "    while True:\n",
    "        time.sleep(3)\n",
    "        image.reload()\n",
    "        handle.update(image)"
   ]
  },
  {
   "cell_type": "code",
   "execution_count": null,
   "metadata": {
    "scrolled": true
   },
   "outputs": [],
   "source": [
    "# Show image in Notebook\n",
    "image = display.Image(filename='test.png', width=300, height=200)\n",
    "handle = display.display(image, display_id=True)"
   ]
  },
  {
   "cell_type": "code",
   "execution_count": null,
   "metadata": {},
   "outputs": [],
   "source": [
    "%%capture\n",
    "#    ^ Suppress output of Cell in Jupyter \n",
    "\n",
    "# Start background-job to update image\n",
    "jobs = bg.BackgroundJobManager();\n",
    "jobs.new('update_image()');"
   ]
  },
  {
   "cell_type": "code",
   "execution_count": null,
   "metadata": {},
   "outputs": [],
   "source": [
    "# Listen to Kafka Stream\n",
    "\n",
    "# Stream Settings\n",
    "zkQuorum = 'localhost:2181'\n",
    "topic = 'wordcounttopic'\n",
    "ssc = StreamingContext(sc, 3)  # Update every 5 seconds\n",
    "kvs = KafkaUtils.createStream(ssc, zkQuorum, \"spark-streaming-consumer\", {topic: 1})\n",
    "\n",
    "# Transform stream payload\n",
    "dstream = kvs.map(lambda x: json.loads(x[1]))  # transform json to object\n",
    "images = dstream.map(lambda x: save_image(x))  # get image string & save\n",
    "\n",
    "images.pprint(5)\n",
    "\n",
    "# Actually start Streaming Context\n",
    "ssc.start()  \n",
    "ssc.awaitTermination()"
   ]
  },
  {
   "cell_type": "code",
   "execution_count": null,
   "metadata": {
    "collapsed": true
   },
   "outputs": [],
   "source": []
  }
 ],
 "metadata": {
  "kernelspec": {
   "display_name": "Python 2",
   "language": "python",
   "name": "python2"
  },
  "language_info": {
   "codemirror_mode": {
    "name": "ipython",
    "version": 2
   },
   "file_extension": ".py",
   "mimetype": "text/x-python",
   "name": "python",
   "nbconvert_exporter": "python",
   "pygments_lexer": "ipython2",
   "version": "2.7.14"
  }
 },
 "nbformat": 4,
 "nbformat_minor": 2
}
