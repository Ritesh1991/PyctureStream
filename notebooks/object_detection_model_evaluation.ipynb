{
 "cells": [
  {
   "cell_type": "markdown",
   "metadata": {},
   "source": [
    "# Model Evaluation\n",
    "This is a modified version of the Notebook [object_detection.ipynb](https://github.com/tensorflow/models/blob/master/research/object_detection/object_detection_tutorial.ipynb) from TensorFlow."
   ]
  },
  {
   "cell_type": "markdown",
   "metadata": {},
   "source": [
    "# Imports"
   ]
  },
  {
   "cell_type": "code",
   "execution_count": null,
   "metadata": {
    "scrolled": true
   },
   "outputs": [],
   "source": [
    "import numpy as np\n",
    "import os\n",
    "import six.moves.urllib as urllib\n",
    "import sys\n",
    "import tarfile\n",
    "import tensorflow as tf\n",
    "import zipfile\n",
    "import warnings\n",
    "import timeit\n",
    "\n",
    "from collections import defaultdict\n",
    "from io import StringIO\n",
    "from matplotlib import pyplot as plt\n",
    "from PIL import Image\n",
    "\n",
    "# Object detection imports\n",
    "warnings.filterwarnings('ignore') # \"Real\" coders ignore all warnings. Joke apart: matpotlib shows huge warning here.\n",
    "from object_detection.utils import ops as utils_ops\n",
    "from object_detection.utils import label_map_util\n",
    "from object_detection.utils import visualization_utils as vis_util\n",
    "warnings.filterwarnings('always') # Switch warning on again (you'll never know...)\n",
    "\n",
    "# This is needed to display the images.\n",
    "%matplotlib inline"
   ]
  },
  {
   "cell_type": "code",
   "execution_count": null,
   "metadata": {},
   "outputs": [],
   "source": [
    "# Check correct TF version (1.5+ is needed for the models)\n",
    "if tf.__version__ < '1.5.0':\n",
    "    print('You are using TF version', tf.__version__)\n",
    "    raise ImportError('Please upgrade your tensorflow installation to v1.5.* or later!')"
   ]
  },
  {
   "cell_type": "markdown",
   "metadata": {},
   "source": [
    "# Model preparation "
   ]
  },
  {
   "cell_type": "markdown",
   "metadata": {},
   "source": [
    "## Variables"
   ]
  },
  {
   "cell_type": "code",
   "execution_count": null,
   "metadata": {},
   "outputs": [],
   "source": [
    "# What models to download & test.\n",
    "MODELS = ['ssd_mobilenet_v1_coco_2017_11_17', \n",
    "          'faster_rcnn_inception_v2_coco_2018_01_28',\n",
    "          'faster_rcnn_resnet101_coco_2018_01_28',\n",
    "          'faster_rcnn_inception_resnet_v2_atrous_oid_2018_01_28']\n",
    "\n",
    "DOWNLOAD_BASE = 'http://download.tensorflow.org/models/object_detection/'\n",
    "\n",
    "# Path to frozen detection graph. This is the actual model that is used for the object detection.\n",
    "\n",
    "# List of the strings that is used to add correct label for each box.\n",
    "COCO_PATH_TO_LABELS = os.path.join('object_detection', 'data', 'mscoco_label_map.pbtxt')\n",
    "COCO_NUM_CLASSES = 90\n",
    "\n",
    "OID_PATH_TO_LABELS = os.path.join('object_detection', 'data', 'oid_bbox_trainable_label_map.pbtxt')\n",
    "OID_NUM_CLASSES = 545\n",
    "\n",
    "# Path to Test Images:\n",
    "PATH_TO_TEST_IMAGES_DIR = os.path.join('object_detection', 'test_images')\n",
    "TEST_IMAGE_PATHS = [ os.path.join(PATH_TO_TEST_IMAGES_DIR, 'image_{}.jpg'.format(i)) for i in range(0, 4) ]\n",
    "\n",
    "# Size, in inches, of the output images.\n",
    "IMAGE_SIZE = (20, 15)"
   ]
  },
  {
   "cell_type": "markdown",
   "metadata": {},
   "source": [
    "## Download Models\n",
    "(Executed only, if not already downloaded)"
   ]
  },
  {
   "cell_type": "code",
   "execution_count": null,
   "metadata": {},
   "outputs": [],
   "source": [
    "def download_model(model_name):\n",
    "    \"\"\"Download model file and extract frozen detection graph.\"\"\"\n",
    "    model_file = model_name + '.tar.gz'\n",
    "    # Download\n",
    "    if not os.path.isfile(model_file):\n",
    "        print('Downloading {} ...'.format(model_file))        \n",
    "        opener = urllib.request.URLopener()\n",
    "        opener.retrieve(DOWNLOAD_BASE + model_file, model_file)\n",
    "        # Extract\n",
    "        tar_file = tarfile.open(model_file)\n",
    "        for file in tar_file.getmembers():\n",
    "            file_name = os.path.basename(file.name)\n",
    "            if 'frozen_inference_graph.pb' in file_name:\n",
    "                tar_file.extract(file, os.getcwd())        \n",
    "    else:\n",
    "        print('Skip downloading {}. Already existing.'.format(model_file))"
   ]
  },
  {
   "cell_type": "code",
   "execution_count": null,
   "metadata": {},
   "outputs": [],
   "source": [
    "for model_name in MODELS:\n",
    "    download_model(model_name)\n",
    "print('Done.')"
   ]
  },
  {
   "cell_type": "markdown",
   "metadata": {},
   "source": [
    "## Load a (frozen) Tensorflow model into memory."
   ]
  },
  {
   "cell_type": "code",
   "execution_count": null,
   "metadata": {},
   "outputs": [],
   "source": [
    "def load_graph(model_name):\n",
    "    path_to_ckpt = model_name + '/frozen_inference_graph.pb'\n",
    "    detection_graph = tf.Graph()\n",
    "    with detection_graph.as_default():\n",
    "        od_graph_def = tf.GraphDef()\n",
    "        with tf.gfile.GFile(path_to_ckpt, 'rb') as fid:\n",
    "            serialized_graph = fid.read()\n",
    "            od_graph_def.ParseFromString(serialized_graph)\n",
    "            tf.import_graph_def(od_graph_def, name='')\n",
    "    return detection_graph"
   ]
  },
  {
   "cell_type": "markdown",
   "metadata": {},
   "source": [
    "## Helper code"
   ]
  },
  {
   "cell_type": "code",
   "execution_count": null,
   "metadata": {},
   "outputs": [],
   "source": [
    "def load_image_into_numpy_array(image):\n",
    "  (im_width, im_height) = image.size\n",
    "  return np.array(image.getdata()).reshape(\n",
    "      (im_height, im_width, 3)).astype(np.uint8)"
   ]
  },
  {
   "cell_type": "code",
   "execution_count": null,
   "metadata": {},
   "outputs": [],
   "source": [
    "def wrapper(func, *args, **kwargs):\n",
    "    \"\"\"Wrapper function for use with timeit.\n",
    "    See: https://www.pythoncentral.io/time-a-python-function/\"\"\"\n",
    "    def wrapped():\n",
    "         return func(*args, **kwargs)\n",
    "    return wrapped"
   ]
  },
  {
   "cell_type": "markdown",
   "metadata": {},
   "source": [
    "## Detect object in a single image"
   ]
  },
  {
   "cell_type": "code",
   "execution_count": null,
   "metadata": {},
   "outputs": [],
   "source": [
    "def run_inference_for_single_image(image, graph):\n",
    "    with graph.as_default():\n",
    "        with tf.Session() as sess:\n",
    "            # Get handles to input and output tensors\n",
    "            ops = tf.get_default_graph().get_operations()\n",
    "            all_tensor_names = {output.name for op in ops for output in op.outputs}\n",
    "            tensor_dict = {}\n",
    "            for key in [\n",
    "                  'num_detections', 'detection_boxes', 'detection_scores',\n",
    "                  'detection_classes', 'detection_masks'\n",
    "              ]:\n",
    "                tensor_name = key + ':0'\n",
    "                if tensor_name in all_tensor_names:\n",
    "                  tensor_dict[key] = tf.get_default_graph().get_tensor_by_name(\n",
    "                      tensor_name)\n",
    "            if 'detection_masks' in tensor_dict:\n",
    "                # The following processing is only for single image\n",
    "                detection_boxes = tf.squeeze(tensor_dict['detection_boxes'], [0])\n",
    "                detection_masks = tf.squeeze(tensor_dict['detection_masks'], [0])\n",
    "                # Reframe is required to translate mask from box coordinates to image coordinates and fit the image size.\n",
    "                real_num_detection = tf.cast(tensor_dict['num_detections'][0], tf.int32)\n",
    "                detection_boxes = tf.slice(detection_boxes, [0, 0], [real_num_detection, -1])\n",
    "                detection_masks = tf.slice(detection_masks, [0, 0, 0], [real_num_detection, -1, -1])\n",
    "                detection_masks_reframed = utils_ops.reframe_box_masks_to_image_masks(\n",
    "                    detection_masks, detection_boxes, image.shape[0], image.shape[1])\n",
    "                detection_masks_reframed = tf.cast(tf.greater(detection_masks_reframed, 0.5), tf.uint8)\n",
    "                # Follow the convention by adding back the batch dimension\n",
    "                tensor_dict['detection_masks'] = tf.expand_dims(detection_masks_reframed, 0)\n",
    "            image_tensor = tf.get_default_graph().get_tensor_by_name('image_tensor:0')\n",
    "\n",
    "            # Run inference\n",
    "            output_dict = sess.run(tensor_dict,\n",
    "                                   feed_dict={image_tensor: np.expand_dims(image, 0)})\n",
    "\n",
    "            # all outputs are float32 numpy arrays, so convert types as appropriate\n",
    "            output_dict['num_detections'] = int(output_dict['num_detections'][0])\n",
    "            output_dict['detection_classes'] = output_dict['detection_classes'][0].astype(np.uint8)\n",
    "            output_dict['detection_boxes'] = output_dict['detection_boxes'][0]\n",
    "            output_dict['detection_scores'] = output_dict['detection_scores'][0]\n",
    "            if 'detection_masks' in output_dict:\n",
    "                output_dict['detection_masks'] = output_dict['detection_masks'][0]\n",
    "    return output_dict"
   ]
  },
  {
   "cell_type": "markdown",
   "metadata": {},
   "source": [
    "## Cycle through all test-images, analyse and output with boxes"
   ]
  },
  {
   "cell_type": "code",
   "execution_count": null,
   "metadata": {
    "scrolled": true
   },
   "outputs": [],
   "source": [
    "def analyze_images(detection_graph):\n",
    "    for image_path in TEST_IMAGE_PATHS:\n",
    "        image = Image.open(image_path)\n",
    "        # the array based representation of the image will be used later in order to prepare the\n",
    "        # result image with boxes and labels on it.\n",
    "        image_np = load_image_into_numpy_array(image)\n",
    "        # Expand dimensions since the model expects images to have shape: [1, None, None, 3]\n",
    "        image_np_expanded = np.expand_dims(image_np, axis=0)\n",
    "        # Actual detection.\n",
    "        output_dict = run_inference_for_single_image(image_np, detection_graph)\n",
    "        # Visualization of the results of a detection.\n",
    "        vis_util.visualize_boxes_and_labels_on_image_array(\n",
    "            image_np,\n",
    "            output_dict['detection_boxes'],\n",
    "            output_dict['detection_classes'],\n",
    "            output_dict['detection_scores'],\n",
    "            category_index,\n",
    "            instance_masks=output_dict.get('detection_masks'),\n",
    "            use_normalized_coordinates=True,\n",
    "            line_thickness=3)\n",
    "        plt.figure(figsize=IMAGE_SIZE)\n",
    "        plt.imshow(image_np)"
   ]
  },
  {
   "cell_type": "markdown",
   "metadata": {},
   "source": [
    "# Main"
   ]
  },
  {
   "cell_type": "code",
   "execution_count": null,
   "metadata": {},
   "outputs": [],
   "source": [
    "for model_name in MODELS:\n",
    "    print('Analyzing {} test images using \"{}\" ...'.format(len(TEST_IMAGE_PATHS), model_name) )\n",
    "    \n",
    "    # Label maps map indices to category names, so that when our convolution network predicts 5, we know that this corresponds to airplane.\n",
    "    if '_coco_' in model_name:\n",
    "        label_map = label_map_util.load_labelmap(COCO_PATH_TO_LABELS)\n",
    "        categories = label_map_util.convert_label_map_to_categories(label_map, max_num_classes=COCO_NUM_CLASSES, use_display_name=True)\n",
    "        category_index = label_map_util.create_category_index(categories)    \n",
    "    elif '_oid_' in model_name:\n",
    "        label_map = label_map_util.load_labelmap(OID_PATH_TO_LABELS)\n",
    "        categories = label_map_util.convert_label_map_to_categories(label_map, max_num_classes=OID_NUM_CLASSES, use_display_name=True)\n",
    "        category_index = label_map_util.create_category_index(categories)    \n",
    "    else:\n",
    "        print('Labels couldn\\'t be loaded. Abort.')\n",
    "        continue\n",
    "    \n",
    "    # Load model\n",
    "    detection_graph = load_graph(model_name)\n",
    "    \n",
    "    # Analyse & output with timeit, for perfomance measuring\n",
    "    wrapped = wrapper(analyze_images, detection_graph)\n",
    "    duration = timeit.timeit(wrapped, number=1)\n",
    "    print(('Time needed: {}. Average per image: {}').format(duration, duration/len(TEST_IMAGE_PATHS)))"
   ]
  },
  {
   "cell_type": "code",
   "execution_count": null,
   "metadata": {},
   "outputs": [],
   "source": []
  },
  {
   "cell_type": "code",
   "execution_count": null,
   "metadata": {},
   "outputs": [],
   "source": []
  }
 ],
 "metadata": {
  "colab": {
   "version": "0.3.2"
  },
  "kernelspec": {
   "display_name": "Python 2",
   "language": "python",
   "name": "python2"
  },
  "language_info": {
   "codemirror_mode": {
    "name": "ipython",
    "version": 2
   },
   "file_extension": ".py",
   "mimetype": "text/x-python",
   "name": "python",
   "nbconvert_exporter": "python",
   "pygments_lexer": "ipython2",
   "version": "2.7.14"
  }
 },
 "nbformat": 4,
 "nbformat_minor": 2
}
