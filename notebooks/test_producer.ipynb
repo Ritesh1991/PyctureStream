{
 "cells": [
  {
   "cell_type": "markdown",
   "metadata": {},
   "source": [
    "# Pycture Producer\n",
    "Capture Images from Webcam and sends them to Kafka"
   ]
  },
  {
   "cell_type": "code",
   "execution_count": 1,
   "metadata": {},
   "outputs": [],
   "source": [
    "from kafka import KafkaProducer\n",
    "import cv2\n",
    "import base64\n",
    "import json\n",
    "import time\n",
    "import datetime as dt\n",
    "%matplotlib inline"
   ]
  },
  {
   "cell_type": "markdown",
   "metadata": {},
   "source": [
    "### Class containing all the producer functionality "
   ]
  },
  {
   "cell_type": "code",
   "execution_count": 2,
   "metadata": {},
   "outputs": [],
   "source": [
    "class pycture_producer():\n",
    "    \"\"\"Stream WebCam Images to Kafka Endpoint.\n",
    "\n",
    "    Keyword arguments:\n",
    "    interval  -- Interval for capturing images in seconds (default 5 sec)    \n",
    "    source    -- Index of Video Device or Filename of Video-File\n",
    "    camera_id -- Unique Identifier for this Camera\n",
    "    topic     -- receiving Kafka Topic \n",
    "    server    -- Host + Port of Kafka Endpoint (default '127.0.0.1:9092')\n",
    "    \"\"\"\n",
    "\n",
    "    def __init__(self,\n",
    "                 interval: int = 5,\n",
    "                 source=0,\n",
    "                 camera_id: str = 'camera_generic',\n",
    "                 topic: str = 'wordcounttopic',\n",
    "                 server: str = '127.0.0.1:9092'):\n",
    "\n",
    "        print(f'Initialized camera \"{camera_id}\" with source {source}.')\n",
    "        print(f'Send to \"{topic}\" on \"{server}\" every {interval} sec.')\n",
    "        \n",
    "        # Class Variables\n",
    "        self.interval = interval  # Interval for Photos in Seconds\n",
    "        self.video_source = source\n",
    "        self.camera_id = camera_id\n",
    "        self.server = server  # Host + Port of Kafka Endpoint\n",
    "        self.topic = topic\n",
    "        self.img_file = './frame.jpg'\n",
    "\n",
    "        # Connection to Kafka Enpoint\n",
    "        self.producer = KafkaProducer(bootstrap_servers=self.server,\n",
    "                                      value_serializer=lambda m: json.dumps(m).encode('utf8'))\n",
    "        self.producer.send(self.topic, b'data')\n",
    "\n",
    "        # Start Streaming...\n",
    "        self.stream_video()\n",
    "\n",
    "    def stream_video(self):\n",
    "        \"\"\"Start streaming video frames to Kafka forever.\"\"\"\n",
    "        print(f'Start capturing frames every {self.interval} sec.')\n",
    "        while True:\n",
    "            vidcap = cv2.VideoCapture(self.video_source)           \n",
    "            success, image = vidcap.read()\n",
    "            timestamp = dt.datetime.utcnow().isoformat()\n",
    "            vidcap.release()\n",
    "            if success is True:\n",
    "                # Base64 encode image for transfer in json\n",
    "                png = cv2.imencode('.png', image)[1]\n",
    "                png_as_text = base64.b64encode(png).decode('utf-8')\n",
    "                # Build object and send to Kafka\n",
    "                result = {\n",
    "                    'image': png_as_text,\n",
    "                    'timestamp': timestamp,\n",
    "                    'camera_id': self.camera_id\n",
    "                }\n",
    "                self.send_to_kafka(result)\n",
    "                self.save_image(image)\n",
    "            else:\n",
    "                print(f'Could not read image from source {self.video_source}!')\n",
    "            # Sleep interval, before next capture\n",
    "            time.sleep(self.interval)\n",
    "\n",
    "    def send_to_kafka(self, data):\n",
    "        \"\"\"Send JSON payload to topic in Kafka.\"\"\"\n",
    "        self.producer.send(self.topic, data)\n",
    "\n",
    "    def save_image(self, image):\n",
    "        \"\"\"Save frame as JPEG file, for debugging purpose only.\"\"\"\n",
    "        cv2.imwrite(self.img_file, image)"
   ]
  },
  {
   "cell_type": "markdown",
   "metadata": {},
   "source": [
    "### Initialiue and start producer"
   ]
  },
  {
   "cell_type": "code",
   "execution_count": null,
   "metadata": {},
   "outputs": [
    {
     "name": "stdout",
     "output_type": "stream",
     "text": [
      "Initialized camera \"holger\" with source 0.\n",
      "Send to \"pycturestream\" on \"127.0.0.1:9092\" every 2 sec.\n",
      "Start capturing frames every 2 sec.\n",
      "Could not read image from source 0!\n",
      "Could not read image from source 0!\n",
      "Could not read image from source 0!\n",
      "Could not read image from source 0!\n",
      "Could not read image from source 0!\n",
      "Could not read image from source 0!\n",
      "Could not read image from source 0!\n",
      "Could not read image from source 0!\n",
      "Could not read image from source 0!\n",
      "Could not read image from source 0!\n"
     ]
    }
   ],
   "source": [
    "# Set source='demo.mp4' for streaming video file\n",
    "pycture_producer(interval=2,\n",
    "                source=0, #'../producer/demo.mp4'\n",
    "                camera_id='holger',\n",
    "                server='127.0.0.1:9092',\n",
    "                topic='pycturestream')"
   ]
  },
  {
   "cell_type": "code",
   "execution_count": null,
   "metadata": {},
   "outputs": [],
   "source": []
  }
 ],
 "metadata": {
  "kernelspec": {
   "display_name": "Python 3",
   "language": "python",
   "name": "python3"
  },
  "language_info": {
   "codemirror_mode": {
    "name": "ipython",
    "version": 3
   },
   "file_extension": ".py",
   "mimetype": "text/x-python",
   "name": "python",
   "nbconvert_exporter": "python",
   "pygments_lexer": "ipython3",
   "version": "3.6.4"
  }
 },
 "nbformat": 4,
 "nbformat_minor": 2
}
